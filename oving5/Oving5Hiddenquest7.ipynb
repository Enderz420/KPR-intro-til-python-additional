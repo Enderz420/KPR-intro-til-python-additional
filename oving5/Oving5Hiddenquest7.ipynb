{
 "cells": [
  {
   "cell_type": "markdown",
   "metadata": {
    "deletable": false,
    "editable": false,
    "run_control": {
     "frozen": true
    }
   },
   "source": [
    "# Tannfeen\n",
    "\n",
    "**Læringsmål:**\n",
    "\n",
    "* Lister\n",
    "* Løkker\n",
    "\n",
    "Moderne tannfeer betaler per gram tann. I dagens økonomi er 1 gram tann er verdt 1 krone. I tillegg vil tannfeene helst bruke så store mynter de kan (i verdi) når de betaler. Gyldige mynter er [20,10,5,1].\n",
    "\n",
    "Siden tannfeene besøker så mange, vil de ha et program som skal kunne regne ut dette fra lister. Det vil si at programmet tar inn en liste av tannvekter, og får tilbake en liste (av lister) over hvilke mynter som trengs for tennene.\n",
    "\n",
    "Eksempel:\n",
    "\n",
    "```python\n",
    "teeth = [53,28]\n",
    "Skal gi ut\n",
    "[[2,1,0,3],[1,0,1,3]]\n",
    "```\n",
    "\n",
    "Eksempelet over vil si at for 53g vil man få:\n",
    "- 2 stk 20kr\n",
    "- 1 stk 10kr\n",
    "- 0 stk 5kr\n",
    "- 3 stk 1kr\n",
    "  \n",
    " og for 28g vil man få:\n",
    " - 1 stk 20kr\n",
    " - 0 stk 10kr\n",
    " - 1 stk 5kr\n",
    " - 3 stk 1kr\n",
    "\n",
    "**Oppgave:** Lag programmet og test med listen under."
   ]
  },
  {
   "cell_type": "code",
   "execution_count": null,
   "metadata": {
    "ExecuteTime": {
     "end_time": "2019-07-03T10:42:45.712190Z",
     "start_time": "2019-07-03T10:42:45.702194Z"
    }
   },
   "outputs": [],
   "source": [
    "teeth = [95,103,71,99,114,64,95,53,97,114,109,11,2,21,45,2,26,81,54,14,118,108,117,27,115,43,70,58,107]"
   ]
  },
  {
   "cell_type": "code",
   "execution_count": null,
   "metadata": {
    "ExecuteTime": {
     "end_time": "2019-07-03T10:42:50.281923Z",
     "start_time": "2019-07-03T10:42:50.277659Z"
    }
   },
   "outputs": [],
   "source": [
    "#skriv koden din her"
   ]
  },
  {
   "cell_type": "markdown",
   "metadata": {
    "deletable": false,
    "editable": false,
    "run_control": {
     "frozen": true
    }
   },
   "source": [
    "Dersom du skrevet koden riktig skal listen over gi følgende utskrift:\n",
    "\n",
    "```python\n",
    "[[4, 1, 1, 0], [5, 0, 0, 3], [3, 1, 0, 1], [4, 1, 1, 4], [5, 1, 0, 4], [3, 0, 0, 4],  \n",
    "[4, 1, 1, 0], [2, 1, 0, 3], [4, 1, 1, 2], [5, 1, 0, 4], [5, 0, 1, 4], [0, 1, 0, 1],  \n",
    "[0, 0, 0, 2], [1, 0, 0, 1], [2, 0, 1, 0], [0, 0, 0, 2], [1, 0, 1, 1], [4, 0, 0, 1],  \n",
    "[2, 1, 0, 4], [0, 1, 0, 4], [5, 1, 1, 3], [5, 0, 1, 3], [5, 1, 1, 2], [1, 0, 1, 2],  \n",
    "[5, 1, 1, 0], [2, 0, 0, 3], [3, 1, 0, 0], [2, 1, 1, 3], [5, 0, 1, 2]]\n",
    "```\n",
    "På penere form:\n",
    "```python\n",
    "20: 4 , 10: 1 , 5: 1 , 1: 0\n",
    "20: 5 , 10: 0 , 5: 0 , 1: 3\n",
    "20: 3 , 10: 1 , 5: 0 , 1: 1\n",
    "20: 4 , 10: 1 , 5: 1 , 1: 4\n",
    "20: 5 , 10: 1 , 5: 0 , 1: 4\n",
    "20: 3 , 10: 0 , 5: 0 , 1: 4\n",
    "20: 4 , 10: 1 , 5: 1 , 1: 0\n",
    "20: 2 , 10: 1 , 5: 0 , 1: 3\n",
    "20: 4 , 10: 1 , 5: 1 , 1: 2\n",
    "20: 5 , 10: 1 , 5: 0 , 1: 4\n",
    "20: 5 , 10: 0 , 5: 1 , 1: 4\n",
    "20: 0 , 10: 1 , 5: 0 , 1: 1\n",
    "20: 0 , 10: 0 , 5: 0 , 1: 2\n",
    "20: 1 , 10: 0 , 5: 0 , 1: 1\n",
    "20: 2 , 10: 0 , 5: 1 , 1: 0\n",
    "20: 0 , 10: 0 , 5: 0 , 1: 2\n",
    "20: 1 , 10: 0 , 5: 1 , 1: 1\n",
    "20: 4 , 10: 0 , 5: 0 , 1: 1\n",
    "20: 2 , 10: 1 , 5: 0 , 1: 4\n",
    "20: 0 , 10: 1 , 5: 0 , 1: 4\n",
    "20: 5 , 10: 1 , 5: 1 , 1: 3\n",
    "20: 5 , 10: 0 , 5: 1 , 1: 3\n",
    "20: 5 , 10: 1 , 5: 1 , 1: 2\n",
    "20: 1 , 10: 0 , 5: 1 , 1: 2\n",
    "20: 5 , 10: 1 , 5: 1 , 1: 0\n",
    "20: 2 , 10: 0 , 5: 0 , 1: 3\n",
    "20: 3 , 10: 1 , 5: 0 , 1: 0\n",
    "20: 2 , 10: 1 , 5: 1 , 1: 3\n",
    "20: 5 , 10: 0 , 5: 1 , 1: 2\n",
    "```"
   ]
  }
 ],
 "metadata": {
  "kernelspec": {
   "display_name": "Python 3 (ipykernel)",
   "language": "python",
   "name": "python3"
  },
  "language_info": {
   "codemirror_mode": {
    "name": "ipython",
    "version": 3
   },
   "file_extension": ".py",
   "mimetype": "text/x-python",
   "name": "python",
   "nbconvert_exporter": "python",
   "pygments_lexer": "ipython3",
   "version": "3.9.7"
  },
  "toc": {
   "base_numbering": 1,
   "nav_menu": {},
   "number_sections": false,
   "sideBar": true,
   "skip_h1_title": false,
   "title_cell": "Table of Contents",
   "title_sidebar": "Contents",
   "toc_cell": false,
   "toc_position": {},
   "toc_section_display": true,
   "toc_window_display": false
  }
 },
 "nbformat": 4,
 "nbformat_minor": 2
}
