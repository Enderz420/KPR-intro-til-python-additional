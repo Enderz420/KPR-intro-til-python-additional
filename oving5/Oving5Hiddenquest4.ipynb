{
 "cells": [
  {
   "cell_type": "markdown",
   "metadata": {},
   "source": [
    "# A wild hidden quest 5-4 appeared!\n",
    "\n",
    "![img](./../img/hidden-quest-img.png)\n",
    "\n",
    "**Klarer du oppgaven ryktes det Heimdallsquest XP**"
   ]
  },
  {
   "cell_type": "markdown",
   "metadata": {
    "deletable": false,
    "editable": false,
    "run_control": {
     "frozen": true
    }
   },
   "source": [
    "# Prosentutregning av eksamen\n",
    "\n",
    "**Læringsmål:**\n",
    "\n",
    "* Lister\n",
    "* funksjoner\n",
    "\n",
    "I denne oppgaven skal du sammenligne to lister og studere hvor like de er hverandre. \n",
    "\n",
    "Det skal holdes en eksamen, der alle spørsmålene er flersvarsoppgaver. Eksamenen vil alltid bestå av 20 oppgaver. Riktige svar for oppgavene er som følger:"
   ]
  },
  {
   "cell_type": "markdown",
   "metadata": {
    "deletable": false,
    "editable": false,
    "run_control": {
     "frozen": true
    }
   },
   "source": [
    "Riktige svar|- |- |-\n",
    "---|---|---|---\n",
    "1.A|6.A|11.D|16.A\n",
    "2.C\t|7.B|\t12.A|\t17.B\n",
    "3.B|\t8.A\t|13.C\t|18.A\n",
    "4.D\t|9.C|\t14.C|\t19.C\n",
    "5.A\t|10.A|\t15.B|\t20.D\n"
   ]
  },
  {
   "cell_type": "markdown",
   "metadata": {
    "deletable": false,
    "editable": false,
    "run_control": {
     "frozen": true
    }
   },
   "source": [
    "**a)** \n",
    "Lag en liste *fasit* som inneholder de korrekte svarene.\n",
    "\n",
    "***Skriv svaret ditt i boksen under.***"
   ]
  },
  {
   "cell_type": "code",
   "execution_count": null,
   "metadata": {
    "ExecuteTime": {
     "end_time": "2019-07-03T09:50:49.055719Z",
     "start_time": "2019-07-03T09:50:49.049558Z"
    }
   },
   "outputs": [],
   "source": []
  },
  {
   "cell_type": "markdown",
   "metadata": {
    "deletable": false,
    "editable": false,
    "run_control": {
     "frozen": true
    }
   },
   "source": [
    "**b)**\n",
    "Lag en funksjon `sjekk_svar` som tar inn elevens_svar som argument. elevens_svar er en liste som inneholder en elev sine svar på oppgavene. Ved å sammenligne elevens svar med de riktige svarene, skal funksjonen returnere hvor mange prosent av oppgavene eleven klarte. \n",
    "\n",
    "Eksempel på kjøring:\n",
    "\n",
    "```python\n",
    "print(sjekk_svar(['A', 'C', 'B', 'D', 'A', 'A', 'B', 'A', 'C', 'A', 'D', 'A', 'C', 'C', 'B', 'A', 'B', 'A', 'A', 'C'])) # Gir 90% riktig\n",
    "print(sjekk_svar(fasit)) # Gir 100% riktig\n",
    "```\n",
    "\n",
    "***Skriv svaret ditt i boksen under.***"
   ]
  },
  {
   "cell_type": "code",
   "execution_count": null,
   "metadata": {
    "ExecuteTime": {
     "end_time": "2019-07-03T09:53:05.112502Z",
     "start_time": "2019-07-03T09:53:05.105864Z"
    }
   },
   "outputs": [],
   "source": []
  },
  {
   "cell_type": "markdown",
   "metadata": {
    "deletable": false,
    "editable": false,
    "run_control": {
     "frozen": true
    }
   },
   "source": [
    "Har du gjort det på riktig måte skal koden under gi 20% riktig. Trykk på blokka under og trykk `ctrl + enter` for å kjøre den."
   ]
  },
  {
   "cell_type": "code",
   "execution_count": null,
   "metadata": {},
   "outputs": [],
   "source": [
    "print(sjekk_svar(['B', 'B', 'B', 'B', 'B', 'B', 'B', 'B', 'B', 'B', 'B', 'B', 'B', 'B', 'B', 'B', 'B', 'B', 'B', 'B']))"
   ]
  }
 ],
 "metadata": {
  "kernelspec": {
   "display_name": "Python 3 (ipykernel)",
   "language": "python",
   "name": "python3"
  },
  "language_info": {
   "codemirror_mode": {
    "name": "ipython",
    "version": 3
   },
   "file_extension": ".py",
   "mimetype": "text/x-python",
   "name": "python",
   "nbconvert_exporter": "python",
   "pygments_lexer": "ipython3",
   "version": "3.9.6"
  },
  "toc": {
   "base_numbering": 1,
   "nav_menu": {},
   "number_sections": false,
   "sideBar": true,
   "skip_h1_title": false,
   "title_cell": "Table of Contents",
   "title_sidebar": "Contents",
   "toc_cell": false,
   "toc_position": {},
   "toc_section_display": true,
   "toc_window_display": false
  }
 },
 "nbformat": 4,
 "nbformat_minor": 2
}
