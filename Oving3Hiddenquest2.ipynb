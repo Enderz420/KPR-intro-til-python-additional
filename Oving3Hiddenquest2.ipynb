{
 "cells": [
  {
   "attachments": {},
   "cell_type": "markdown",
   "metadata": {},
   "source": [
    "# A wild hidden quest 3-2 appeared!\n",
    "\n",
    "![img](./img/hidden-quest-img.png)\n",
    "\n",
    "**Klarer du oppgaven ryktes det Heimdallsquest XP**"
   ]
  },
  {
   "attachments": {},
   "cell_type": "markdown",
   "metadata": {},
   "source": [
    "# Tekstbasert spill 2\n",
    "\n",
    "**Læringsmål:**\n",
    "\n",
    "* Løkker\n",
    "* Betingelser\n",
    "\n",
    "I denne oppgaven skal vi utvide spillet vi begynte på i øving 2. Du må ikke ha gjort oppgaven i øving for å gjøre denne, men det kan være lurt å ta en kikk [her](Oving2Hiddentquest1.ipynb) for å forstå hva oppgaven går ut på. "
   ]
  },
  {
   "attachments": {},
   "cell_type": "markdown",
   "metadata": {
    "deletable": false,
    "editable": false,
    "run_control": {
     "frozen": true
    }
   },
   "source": [
    "### a)"
   ]
  },
  {
   "attachments": {},
   "cell_type": "markdown",
   "metadata": {},
   "source": [
    "Ved hjelp av en while løkke, la brukeren skrive inn kommando, og gjenta tilstanden dersom brukeren gir inn en ugyldig kommando. Se forrige oppgave for oppførsel ellers. \n",
    "\n",
    "Eksempel:\n",
    "```python\n",
    "Du står utenfor en dør.\n",
    ">sadasd\n",
    "Forstår ikke kommando, prøv noe annet.\n",
    "Du står utenfor en dør.\n",
    ">Gå inn\n",
    "Du går inn døren.\n",
    "```\n",
    "\n",
    "***Skriv koden din i blokka under***"
   ]
  },
  {
   "cell_type": "code",
   "execution_count": null,
   "metadata": {},
   "outputs": [],
   "source": [
    "utenfor = \"feil\"\n",
    "while utenfor != \"gå inn\":\n",
    "    print(\"Du står utenfor en dør\")\n",
    "    utenfor = input(\"\")\n",
    "    if utenfor != \"gå inn\":\n",
    "        print(\"Forstår ikke kommando\")\n",
    "print(\"Du går inn døren.\")"
   ]
  },
  {
   "attachments": {},
   "cell_type": "markdown",
   "metadata": {},
   "source": [
    "### b)"
   ]
  },
  {
   "attachments": {},
   "cell_type": "markdown",
   "metadata": {},
   "source": [
    "Ved hjelp av løkker ønsker vi nå at visse kommandoer skal ta brukeren tilbake til utgangspunktet i spillet.  Dersom en bruker skriver inn en kommando som ikke skal ta brukeren ut av spillet (eller en ugyldig kommando), ønsker vi at den opprinnelige meldingen brukeren får skal gjentas, ellers går spilleren ut av løkken. **Altså, for alle andre kommandoer enn en spesifikk skal løkka gjentas.** I eksempelet under gjentas tilstanden helt til brukeren skriver noe som endrer den.\n",
    "\n",
    "Eksempel:\n",
    "```python\n",
    "Du står utenfor en dør med en postkasse.\n",
    ">bank på\n",
    "Du får ingen respons.\n",
    "Du står utenfor en dør med en postkasse. #opprinnelig tilstand\n",
    ">gå andre veien\n",
    "Du snur deg og vandrer hjem igjen. Du hører en skummel lyd og løper tilbake. \n",
    "Du står utenfor en dør med en postkasse. #opprinnelig tilstand\n",
    ">åpne døren \n",
    "Du går inn døren. #går ut av løkken\n",
    "```\n",
    "\n",
    "***Skriv koden din i blokka under***"
   ]
  },
  {
   "cell_type": "code",
   "execution_count": null,
   "metadata": {},
   "outputs": [],
   "source": [
    "utenfor = \"feil\"\n",
    "while utenfor != \"åpne døren\":\n",
    "    print(\"Du står utenfor en dør med en postkasse\")\n",
    "    utenfor = input(\"\")\n",
    "    while utenfor == \"bank på\":\n",
    "        print(\"Du får ingen respons.\")\n",
    "        break\n",
    "    while utenfor == \"gå andre veien\":\n",
    "        print(\"Du snur deg og vandrer hjem igjen. Du hører en skummel lyd og løper tilbake\")\n",
    "        break\n",
    "print(\"Du går inn døren.\")"
   ]
  },
  {
   "attachments": {},
   "cell_type": "markdown",
   "metadata": {},
   "source": [
    "### c)"
   ]
  },
  {
   "attachments": {},
   "cell_type": "markdown",
   "metadata": {},
   "source": [
    "Ved hjelp av løkker og variabler skal du nå la visse kommandoer brukeren skriver inn endre tilstanden i spillet (altså variablene) **selv om vi ikke går ut av løkka**. Ved å sjekke tilstanden til disse variablene skal en kommando kunne gjøre to ting, utifra hva tilstanden til en variabel er satt til.\n",
    "\n",
    "Eksempel:\n",
    "```python\n",
    "Du står utenfor en dør med en postkasse.\n",
    ">åpne døren\n",
    "Døren er låst.\n",
    "\n",
    "Du står utenfor en dør med en postkasse.\n",
    ">åpne postkassen\n",
    "Du finner en nøkkel. #her må man oppdatere en variabel\n",
    "\n",
    "Du står utenfor en dør med en postkasse. #vi printer ut det samme \n",
    ">åpne døren \n",
    "Du låser opp døren og går inn. #her er tilstanden annerledes enn når vi startet og vi går ut av løkka\n",
    "```\n",
    "\n",
    "***Skriv koden din i blokka under***"
   ]
  },
  {
   "cell_type": "code",
   "execution_count": 3,
   "metadata": {},
   "outputs": [
    {
     "name": "stdout",
     "output_type": "stream",
     "text": [
      "Du står utenfor en dør med en postkasse\n",
      "\n",
      "Ha en fin dag!\n"
     ]
    }
   ],
   "source": [
    "nøkkel = False\n",
    "true_exit = False\n",
    "utenfor = \"feil\"\n",
    "while nøkkel == False:\n",
    "    print(\"Du står utenfor en dør med en postkasse\")\n",
    "    utenfor = input(\"\")\n",
    "    while utenfor == \"åpne døren\":\n",
    "        print(\"Døren er låst\")\n",
    "        break\n",
    "    while utenfor == \"åpne postkassen\":\n",
    "        print(\"Du finner en nøkkel\")\n",
    "        nøkkel = True\n",
    "        break\n",
    "    while utenfor == \"\":\n",
    "        nøkkel = True\n",
    "        true_exit = True\n",
    "        break\n",
    "if true_exit == False:\n",
    "    print(\"Du låser opp døren og går inn.\")\n",
    "else:\n",
    "    print(\"Ha en fin dag!\")"
   ]
  },
  {
   "attachments": {},
   "cell_type": "markdown",
   "metadata": {},
   "source": [
    "### d)"
   ]
  },
  {
   "attachments": {},
   "cell_type": "markdown",
   "metadata": {},
   "source": [
    "Legg til muligheten for brukeren til å gå ut av spillet uansett tilstand vet å kun trykke enter uten å skrive inn noe. Legg inn en avslutningsmelding.\n",
    "\n",
    "Eksempel:\n",
    "```python\n",
    "Du står utenfor en dør med en postkasse.\n",
    ">\n",
    "Ha en fin dag!\n",
    "```\n",
    "\n",
    "***Skriv koden din i samme blokk som oppgave c***"
   ]
  },
  {
   "attachments": {},
   "cell_type": "markdown",
   "metadata": {
    "heading_collapsed": true
   },
   "source": [
    "#### Hint"
   ]
  },
  {
   "attachments": {},
   "cell_type": "markdown",
   "metadata": {
    "hidden": true
   },
   "source": [
    "Du kan bruke `break` for å hoppe ut av en løkke."
   ]
  }
 ],
 "metadata": {
  "kernelspec": {
   "display_name": "Python 3 (ipykernel)",
   "language": "python",
   "name": "python3"
  },
  "language_info": {
   "codemirror_mode": {
    "name": "ipython",
    "version": 3
   },
   "file_extension": ".py",
   "mimetype": "text/x-python",
   "name": "python",
   "nbconvert_exporter": "python",
   "pygments_lexer": "ipython3",
   "version": "3.9.7"
  }
 },
 "nbformat": 4,
 "nbformat_minor": 2
}
