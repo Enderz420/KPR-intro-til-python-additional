{
 "cells": [
  {
   "cell_type": "markdown",
   "metadata": {},
   "source": [
    "# Python Virtual Environments\n",
    "\n",
    "**Læringsmål:**\n",
    "- Virtuelle Miljø\n",
    "- PIP\n",
    "\n"
   ]
  },
  {
   "cell_type": "markdown",
   "metadata": {},
   "source": [
    "## ⚠️⚠️OBS⚠️⚠️\n",
    "---\n",
    "### ⚠️ Dette er mer en veiledning men krever at du bruker terminalen, denne oppgaven trengs ikke å gjøres det er bare for de som er interessert. ⚠️\n",
    "---\n",
    "### ⚠️ Det er en del tekst men det er anbefalt å lese gjennom ⚠️\n",
    "---"
   ]
  },
  {
   "cell_type": "markdown",
   "metadata": {},
   "source": [
    "# Intro til Python Virtual Environments\n",
    "\n",
    "Python Virtual Environments har et problem de løser, at du får oversikt over hvilke pakker du har brukt. <br>\n",
    "Jeg anbefaler sterkt å bruke Virtual Environments da du kan, dette er fordi at du ikke vil ha flere pakker i din globale PIP profil (dette kan du søke opp).\n",
    "\n",
    "Forestill at du jobber på et prosjekt og du bruker noen pakker. Da du er ferdig så skal du sende det over til Jon.\n",
    "Da Jon mottar .py filen og prøver å kjøre den så vil han få dette:\n",
    "\n",
    "![img](../img/ImportError.png)\n",
    "\n",
    "Å nei! Programmet feilet!\n",
    "Selv om det er en så liten feil så er det ganske irriterende å ikke vite at den trengte pakker!\n",
    "\n",
    "Det er her Virtual Environments kommer inn i bildet!"
   ]
  },
  {
   "cell_type": "markdown",
   "metadata": {},
   "source": [
    "# Hands on\n",
    "\n",
    "Det finnes to veier for å lage en virtual environment. Den ene veien er ved å bruke terminalen og den andre veien er å bruke VSCode!\n",
    "\n",
    "Vi bruker VS Code for dette fordi det er relativt enkelt oppsett.\n",
    "\n",
    "### Steg 1\n",
    "Lag en ny python fil i en ny mappe.\n",
    "Det er ikke så viktig hvilket navn du gir filen.\n",
    "\n",
    "### Steg 2\n",
    "Kopier kode blokken under.\n",
    "Denne kode blokken sender en forespørsel som sjekker at lenken fungerer."
   ]
  },
  {
   "cell_type": "code",
   "execution_count": null,
   "metadata": {},
   "outputs": [],
   "source": [
    "import colorama # import colorama for farger\n",
    "print(FORE.RED + \"Denne er rød!\" + FORE.RESET)\n",
    "print(FORE.GREEN + \"Denne er grønn!\" + FORE.RESET)\n"
   ]
  },
  {
   "cell_type": "markdown",
   "metadata": {},
   "source": [
    "### Steg 3\n",
    "\n",
    "Trykk på versjon nummeret til Python. (Se bilde) <br>\n",
    "\n",
    "**ELLER** <br>\n",
    "\n",
    "Trykk på ctrl + skift + p for å åpne VSCode sin \"command palette\". <br>\n",
    "Deretter skriv \"Create Environment\" og trykk enter.\n",
    "\n",
    "![img](../img/PythonVersjon.png)\n",
    "\n",
    "### Steg 4\n",
    "\n",
    "Du vil nå få opp din Python Interpreter versjon, det som gjør din kode til instruksjoner til datamaskinen. \n",
    "Over det så vil du se en knapp med \"Create Virtual Environment\", klikk på den.\n",
    "\n",
    "Dermed vil du få opp hvilken du vil velge, vi bruker **venv** i denne guiden.\n",
    "\n",
    "Så vil du måtte velge hvilken versjon av Python vi skal bruke, velg din Python versjon eksempel 3.11.X (eller hva enn den nyeste versjonen av Python er).\n",
    "\n",
    "### Steg 5\n",
    "\n",
    "Vent til at venv mappen laster inn. Dette kan ta rundt et minutt eller lengere.\n",
    "\n",
    "### Steg 6\n",
    "\n",
    "Da det er ferdig så kan du se ned på versjon nummeret til Python. Det burde være ekstra tekst med (.venv).\n",
    "<br>\n",
    "Hvis ikke kan du klikke på det og sjekke om det ble laget.  \n",
    "Dette skal være mappestrukturen til mappen din etter du har laget den.\n",
    "\n",
    "📦venvtest (Overmappen) <br>\n",
    " ┣ 📂.venv (Inne her er vår Virtual Environment) <br>\n",
    " ┗ 📜test.py (Python filen vi lagde på starten)\n",
    "\n",
    "\n",
    "## Gratulerer!\n",
    "Du har nå installert din første Python venv!\n",
    "I neste del skal vi gå over hvordan man kan bruke det. \n",
    "<br>"
   ]
  },
  {
   "cell_type": "markdown",
   "metadata": {},
   "source": [
    "\n",
    "\n",
    "# Nå skal vi gjøre en hands on!\n",
    "Ta deg en liten pause før vi fortsetter.\n",
    "<br>\n",
    "\n",
    "### Steg 7\n",
    "\n",
    "Åpne din VS Code terminal hvis du ikke har allerede med å enten:\n",
    "- Trykke på ``ctrl+skift+ø``\n",
    "- Trykke på \"Terminal\" knappen i toolbaren og \"New Terminal\"\n",
    "\n",
    "Da du har åpnet terminalen vil du merke at ingenting ser forskjellig ut. Det vil sikkert komme opp en varseltrekant på høyre side  \n",
    "Se bildet under for eksempel <br>\n",
    "![img](../img/merk-dette.png) \n",
    "\n",
    "\n",
    "Miljøet burde være automatisk aktivert i terminalen"
   ]
  },
  {
   "cell_type": "markdown",
   "metadata": {},
   "source": [
    "## Oppgave 1 \n",
    "\n",
    "a) \n",
    "\n",
    "**Installer nødvendige pakker.**\n",
    "\n",
    "**Da du har satt opp miljøet ditt, installer ``colorama`` pakken fra pip.**\n",
    "\n",
    "b)\n",
    "\n",
    "**Kjør koden i Python filen**  \n",
    "**Hva får du?**"
   ]
  }
 ],
 "metadata": {
  "language_info": {
   "name": "python"
  }
 },
 "nbformat": 4,
 "nbformat_minor": 2
}
