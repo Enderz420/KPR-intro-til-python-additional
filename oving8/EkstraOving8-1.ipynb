{
 "cells": [
  {
   "cell_type": "markdown",
   "metadata": {},
   "source": [
    "# Python Package Index (PIP)\n",
    "\n",
    "### **Læringsmål**\n",
    "- PIP\n",
    "- Bibliotek\n",
    "- Terminal\n"
   ]
  },
  {
   "cell_type": "markdown",
   "metadata": {},
   "source": [
    "# Intro til PIP\n",
    "\n",
    "Noen ganger da vi lager program så hender det av vi skriver en god del kode. I bransjen da vi lager prosjekt så skal man skrive mye kode, og i stedenfor at du skal skrive all koden for hånd så har Python i dette tilfellet innebygde funskjoner og bilioteker.\n",
    "\n",
    "I [Boss Battle 3](../quest_boss_battles/QUEST-BOSSBATTLE3.ipynb) så benyttes random biblioteket. Det er et innebygd bibliotek som kommer med python da du installerer det. \n",
    "<br>\n",
    "Du kan finne alle python biblioteker som er installert i python dokumentasjonen.\n",
    "\n"
   ]
  }
 ],
 "metadata": {
  "language_info": {
   "name": "python"
  }
 },
 "nbformat": 4,
 "nbformat_minor": 2
}
