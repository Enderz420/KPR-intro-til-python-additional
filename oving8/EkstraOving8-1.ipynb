{
 "cells": [
  {
   "cell_type": "markdown",
   "metadata": {},
   "source": [
    "# Python Package Index (PIP)\n",
    "\n",
    "### **Læringsmål**\n",
    "- PIP\n",
    "- Bibliotek\n",
    "- Terminal\n"
   ]
  },
  {
   "cell_type": "markdown",
   "metadata": {},
   "source": [
    "# Intro til PIP\n",
    "\n",
    "Noen ganger da vi lager program så hender det av vi skriver en god del kode. I bransjen da vi lager prosjekt så skal man skrive mye kode og i stedenfor at du skal skrive all koden for hånd så har Python i dette tilfellet innebygde funskjoner og biblioteker.\n",
    "\n",
    "I [Boss Battle 3](../quest_boss_battles/QUEST-BOSSBATTLE3.ipynb) så benyttes random biblioteket. Det er et innebygd bibliotek som kommer med python da du installerer det. \n",
    "<br>\n",
    "Du kan finne alle python biblioteker som er installert i python dokumentasjonen på https://docs.python.org/3/library/index.html\n",
    "<br>\n",
    "PIP åpner muligheten for å dele flere forskjellige kode \"snippets\" og biblioteker under noe som blir kalt en \"package manager\". \n",
    "<br>\n",
    "Hvis du bruker Linux kan du allerede være kjent med APT eller RPM.\n"
   ]
  },
  {
   "cell_type": "markdown",
   "metadata": {},
   "source": [
    "### Sjekke Python installasjon & PIP\n",
    "\n",
    "For å sjekke at PIP er installert så må du kjøre en kommando i terminalen.\n",
    "\n",
    "Åpne powershell eller terminalen i VSCode.\n",
    "\n",
    "Kopier denne kommandoen og trykk på enter\n",
    "\n",
    "````bash\n",
    "pip --version\n",
    "````\n",
    "\n",
    "Du skal få ut noe lignende dette\n",
    "````bash\n",
    "pip 24.3.1 from C:\\Users\\(brukernavn)\\AppData\\Local\\Programs\\Python\\Python313\\Lib\\site-packages\\pip (python 3.13)\n",
    "````\n",
    "\n",
    "MERK!!<br>\n",
    "Hvis du har installert Python fra Windows Store kan det hende at Python ikke har installert alt, så det anbefales å laste ned Python fra nettsiden."
   ]
  },
  {
   "cell_type": "markdown",
   "metadata": {},
   "source": [
    "## Hva kan du gjøre med pip?\n",
    "\n"
   ]
  }
 ],
 "metadata": {
  "language_info": {
   "name": "python"
  }
 },
 "nbformat": 4,
 "nbformat_minor": 2
}
