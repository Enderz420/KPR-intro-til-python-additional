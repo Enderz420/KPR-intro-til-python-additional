{
 "cells": [
  {
   "attachments": {},
   "cell_type": "markdown",
   "metadata": {},
   "source": [
    "# BOSSBATTLE 3-2\n",
    "![img](./img/boss.png)\n",
    "# Hangman\n"
   ]
  },
  {
   "attachments": {},
   "cell_type": "markdown",
   "metadata": {
    "deletable": false,
    "editable": false,
    "run_control": {
     "frozen": true
    }
   },
   "source": [
    "\n",
    "**Læringsmål:**\n",
    "\n",
    "* Betingelser\n",
    "* While-løkker\n",
    "\n",
    "Repitisjonsstrukturer er en mye brukt programmeringsteknikk som brukes når et program skal utføre den samme oppgaven mange ganger etter hverandre. I denne oppgaven bruker vi en enkel while-løkke for å lage et hangman-spill i Python. \n",
    "\n",
    "Lag et program som tar inn et ord (tekststreng) og antall liv (heltall) fra en bruker, og lar en annen (eller samme) bruker gjette på bokstaver i ordet. "
   ]
  },
  {
   "attachments": {},
   "cell_type": "markdown",
   "metadata": {
    "deletable": false,
    "editable": false,
    "run_control": {
     "frozen": true
    }
   },
   "source": [
    "**a)** Start med å hente inn data fra bruker. Lagre dette i to variabler \"hemmelig_ord\" og \"antall_liv\".\n",
    "\n",
    "***Skriv koden din her.***"
   ]
  },
  {
   "cell_type": "code",
   "execution_count": 1,
   "metadata": {
    "ExecuteTime": {
     "end_time": "2019-07-03T06:20:10.962975Z",
     "start_time": "2019-07-03T06:20:10.957236Z"
    }
   },
   "outputs": [],
   "source": [
    "hemmelig_ord = input(\"Hva er ordet? \")\n",
    "antall_liv = int(input(\"Hvor mange liv skal brukeren ha? \"))"
   ]
  },
  {
   "attachments": {},
   "cell_type": "markdown",
   "metadata": {
    "deletable": false,
    "editable": false,
    "run_control": {
     "frozen": true
    }
   },
   "source": [
    "**b)** Under har vi laget en while-løkke som kjører evig. Din oppgave er å fylle inn manglende logikk inne i løkken. Ting som må gjøres er:\n",
    "\n",
    "* Hent inn en bokstav fra bruker\n",
    "* Sjekk om denne er i det hemmelige ordet \n",
    "  * Trekk fra et liv dersom brukeren tipper feil\n",
    " * Hvis brukeren ikke har flere liv skal løkken avsluttes (HINT: bruk \"break\" for å avslutte en løkke) \n",
    "\n",
    "PS: Husk å skrive ut resultatet til brukeren. **Du kan bruke variablene du laget i oppgave a uten å skrive dem på nytt** \n",
    "\n",
    "Eksempel på kjøring av kode:\n",
    "\n",
    "```python\n",
    "Skriv inn det hemmelige ordet: hemmelig\n",
    "Hvor mange forsøk får brukeren? 2\n",
    "Gjett på én bokstav i ordet: f\n",
    "Bokstaven f er ikke i ordet.\n",
    "Du har  1 liv igjen, prøv på nytt.\n",
    "Gjett på én bokstav i ordet: h\n",
    "Stemmer, bokstaven er i ordet\n",
    "Gjett på én bokstav i ordet: e\n",
    "Stemmer, bokstaven er i ordet\n",
    "Gjett på én bokstav i ordet: r\n",
    "Bokstaven r er ikke i ordet.\n",
    "Du har ingen liv igjen.\n",
    "```"
   ]
  },
  {
   "cell_type": "code",
   "execution_count": null,
   "metadata": {},
   "outputs": [],
   "source": [
    "hemmelig_ord = input(\"Hva er ordet? \")\n",
    "antall_liv = int(input(\"Hvor mange liv skal brukeren ha? \"))\n",
    "\n",
    "while hemmelig_ord < antall_liv:\n",
    "        break"
   ]
  },
  {
   "attachments": {},
   "cell_type": "markdown",
   "metadata": {
    "deletable": false,
    "editable": false,
    "run_control": {
     "frozen": true
    }
   },
   "source": [
    "**d)** **FRIVILLIG vanskeligere oppgave**: Fyll inn logikk for å fullføre spillet. Ting som kan implementeres er:\n",
    "\n",
    "* Avslutt løkken hvis brukeren har gjettet alle bokstavene i løsningsordet.\n",
    "* For hvert gjett, print ut maskert løsningsord med stjerner for hver bokstav som fortsatt ikke er gjettet. `(Eks.: lø*ning*ord)`\n",
    "\n",
    "Du kan fortsette i samme kodefelt som oppgave b."
   ]
  }
 ],
 "metadata": {
  "kernelspec": {
   "display_name": "Python 3 (ipykernel)",
   "language": "python",
   "name": "python3"
  },
  "language_info": {
   "codemirror_mode": {
    "name": "ipython",
    "version": 3
   },
   "file_extension": ".py",
   "mimetype": "text/x-python",
   "name": "python",
   "nbconvert_exporter": "python",
   "pygments_lexer": "ipython3",
   "version": "3.9.6"
  },
  "toc": {
   "base_numbering": 1,
   "nav_menu": {},
   "number_sections": false,
   "sideBar": true,
   "skip_h1_title": false,
   "title_cell": "Table of Contents",
   "title_sidebar": "Contents",
   "toc_cell": false,
   "toc_position": {},
   "toc_section_display": true,
   "toc_window_display": false
  }
 },
 "nbformat": 4,
 "nbformat_minor": 2
}
