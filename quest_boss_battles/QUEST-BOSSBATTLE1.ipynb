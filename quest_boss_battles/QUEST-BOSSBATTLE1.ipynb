{
 "cells": [
  {
   "cell_type": "markdown",
   "metadata": {},
   "source": [
    "# BOSSBATTLE 1\n",
    "![img](./../img/boss.png)\n"
   ]
  },
  {
   "cell_type": "markdown",
   "metadata": {},
   "source": [
    "# Objektorientert programmering i Python\n",
    "\n",
    "### ⚠️ Denne oppgaven kan du fint hoppe over, da det er for de spesielt interesserte⚠️\n",
    "\n",
    "---"
   ]
  },
  {
   "cell_type": "markdown",
   "metadata": {},
   "source": [
    "Python er et **objektorientert programmeringsspråk** (object oriented programming (**OOP**)). Dette er noe vi ikke har sett på enda, men noe jeg kort ønsker å snakke om som en ekstra godbit for de spesielt interesserte.\n",
    "\n",
    "⚠️⚠️⚠️ **MERK: Dette er noe vanskelig innhold** ⚠️⚠️⚠️"
   ]
  },
  {
   "cell_type": "markdown",
   "metadata": {},
   "source": [
    "# Objekter og klasser (Objects and Classes)"
   ]
  },
  {
   "cell_type": "markdown",
   "metadata": {},
   "source": [
    "Nesten alt i Python er det vi kaller for **objekter**. Hvert objekt har sine egne egenskaper (**properties**) og metoder (**methods**).\n",
    "\n",
    "For eksempel når vi definerer variabler, definerer vi egentlig ut et objekt. \n",
    "\n",
    "I koden under definerer vi ut et int objekt og et string objekt.\n",
    "Deretter prøver vi å plusse de to objektene sammen, men da får vi en feilmelding med at det ikke er lov å legge sammen et int objekt med et string objekt."
   ]
  },
  {
   "cell_type": "code",
   "execution_count": null,
   "metadata": {},
   "outputs": [],
   "source": [
    "x = 1\n",
    "y = \"string\"\n",
    "print(x + y)"
   ]
  },
  {
   "cell_type": "markdown",
   "metadata": {},
   "source": [
    "Hvorfor er ikke dette lov? Jo det er fordi vi egentlig henter ut en instans av objektet basert på det vi kaller en klasse (**class**).\n",
    "\n",
    "Hvert objekt har en egen klasse som definerer hvordan objektet skal interagere med andre, med andre ord; et sett med regler som hvert objekt må følge.\n",
    "\n",
    "Et integer objekt kan legges sammen med andre tall-objekter, men ikke med string - da det ikke er definert ut noen regler som gjør dette mulig i klassen! Hadde vi derimot plusset sammen 2 integer verdier, har klassen regler for dette, som gjør det til en gyldig handling.\n",
    "\n",
    "I koden under bruker vi `type` til å sjekke hvilken klasse objektene tilhører."
   ]
  },
  {
   "cell_type": "code",
   "execution_count": null,
   "metadata": {},
   "outputs": [],
   "source": [
    "print(type(\"str\"))\n",
    "\n",
    "x = 1\n",
    "print(type(x))\n",
    "\n",
    "def hello():\n",
    "    print(\"hello\")\n",
    "\n",
    "print(type(hello))"
   ]
  },
  {
   "cell_type": "markdown",
   "metadata": {},
   "source": [
    "Merk her at når vi skriver ut typen til strengen, så får vi vite at strengen er et objekt av `classen \"str\"`. Det samme med å printe ut variabelen x, som er et objekt av `classen \"int\"`. Hver datatype har med andre ord en egen klasse, som definerer hva objektene kan gjøre og ikke gjøre.\n",
    "\n",
    "Funksjoner er også et objekt definert i en klasse, her `\"class function\"`.\n",
    "\n",
    "Eksempelene over er klasser som er bygget inn i Python, med forhåndsdefinerte regler - men vi skal senere se på hvordan vi lager egendefinerte klasser (der vi kan bestemme reglene over objektene våre)."
   ]
  },
  {
   "cell_type": "markdown",
   "metadata": {},
   "source": [
    "# Metoder (Methods)"
   ]
  },
  {
   "cell_type": "markdown",
   "metadata": {},
   "source": [
    "I alle klasser er det definert ut det vi kaller for metoder (**methods**).\n",
    "\n",
    "Metoder er enkelt sagt en funksjon som vi kan kjøre *på et objekt*. Dette definerer vi med `objekt.metode()`.\n",
    "\n",
    "I læringsopplegget har vi allerede gjort dette, blant annet ved å konvertere strenger i småbokstaver til storbokstaver. **I koden under bruker vi `.upper()-metoden` på streng-objektet**."
   ]
  },
  {
   "cell_type": "code",
   "execution_count": null,
   "metadata": {},
   "outputs": [],
   "source": [
    "string = \"hello\"\n",
    "print(string.upper())"
   ]
  },
  {
   "cell_type": "markdown",
   "metadata": {},
   "source": [
    "Dette er en metode som er definert i string-klassen, og derfor ikke noe vi kan gjøre på int-objekter - da får vi feilmelding. **Se eksempel under**"
   ]
  },
  {
   "cell_type": "code",
   "execution_count": null,
   "metadata": {},
   "outputs": [],
   "source": [
    "x = 1\n",
    "print(x.upper())"
   ]
  },
  {
   "cell_type": "markdown",
   "metadata": {},
   "source": [
    "Metoder er med enkle ord funksjoner som vi har definert i klassen til objektet, som vi kan kjøre på objektet."
   ]
  },
  {
   "cell_type": "markdown",
   "metadata": {},
   "source": [
    "# Lage egne klasser"
   ]
  },
  {
   "cell_type": "markdown",
   "metadata": {},
   "source": [
    "Objektorientert programmering er et mektig verktøy for utviklere, og gjør det mulig å skape hva enn en ønsker - svært enkelt.\n",
    "\n",
    "Dette hovedsakelig med opprettelsen av egendefinerte klasser. \n",
    "\n",
    "I motsetning til de forhåndsdefinerte klassene til Python er det ingen restriksjoner på hva en kan gjøre med egendefinerte klasser, og slik kan en opprette egne programmer, spill, terminaler eller hva som helst gjennom å definere egne metoder og objekter.\n",
    "\n",
    "La oss si at jeg ønsker å lage et program som simulerer atferden til en Hund, med den innebygde funksjonaliten til Python kommer jeg ikke særlig langt - derfor ønsker jeg å definere en egen `Hund klasse` med egne metoder (funksjoner) som reflekterer atferden jeg ønsker hunden skal ha. **I koden under definerer jeg en Hund-klasse og en Voff-metode**\n",
    "\n",
    "(*Ignorer `self`-parameteret i kodene som følger. Det forklares til slutt*)"
   ]
  },
  {
   "cell_type": "code",
   "execution_count": null,
   "metadata": {},
   "outputs": [],
   "source": [
    "class Hund:\n",
    "\n",
    "    def voff(self):\n",
    "        print(\"voff!\")\n",
    "\n",
    "\n",
    "h = Hund()\n",
    "\n",
    "print(type(h))"
   ]
  },
  {
   "cell_type": "markdown",
   "metadata": {},
   "source": [
    "Vel og merke at man er nødt til å **instansiere** Hund-klassen for at den skal eksistere. I tilfellet over ser det ut som at jeg bare definerer en variabel som heter fido til en funksjon, men i realiteten kalles dette for å **instansiere** hunde-klassen til variabelen `h` - og slik lage et **Hund-objekt**.\n",
    "\n",
    "Når jeg skriver ut typen til `h` i koden over, får jeg ut **`__ main __.Hund`**. Her er `__ main __` **modulen** som klassen ble skrevet ut av (`__ main __` er standard i Python og Jupyter), og til slutt er `Hund` en referanse til Hund-klassen! \n",
    "\n",
    "Siden jeg også har definert en metode i Hund-klassen min, kan jeg kalle metoden på Hund-objektet. **I koden under er dette `h.voff()`**"
   ]
  },
  {
   "cell_type": "code",
   "execution_count": null,
   "metadata": {},
   "outputs": [],
   "source": [
    "class Hund:\n",
    "\n",
    "    def voff(self):\n",
    "        print(\"voff!\")\n",
    "\n",
    "\n",
    "h = Hund()\n",
    "\n",
    "h.voff()"
   ]
  },
  {
   "cell_type": "markdown",
   "metadata": {},
   "source": [
    "Jeg kan også utvide Hund-klassen min med flere metoder. For eksempel ønsker jeg at hunden skal være ekstremt flink på matte, så jeg utvider klassen med en metode som også tar inn flere argumenter og returnerer en verdi. **Se metoden regn_ut i koden under**"
   ]
  },
  {
   "cell_type": "code",
   "execution_count": null,
   "metadata": {},
   "outputs": [],
   "source": [
    "class Hund:\n",
    "\n",
    "    def voff(self):\n",
    "        print(\"voff!\")\n",
    "\n",
    "    def regn_ut(self, x):\n",
    "        return x + 1\n",
    "\n",
    "\n",
    "h = Hund()\n",
    "\n",
    "\n",
    "h.voff()\n",
    "\n",
    "print(h.regn_ut(4))"
   ]
  },
  {
   "cell_type": "markdown",
   "metadata": {},
   "source": [
    "# Attributter / Egenskaper (Attributes / Properties)"
   ]
  },
  {
   "cell_type": "markdown",
   "metadata": {},
   "source": [
    "Klasser kan også ha egne attributter / egenskaper, dvs. egne lokalt lagrede variabler.\n",
    "\n",
    "I koden under definerer vi ut navnet til Hunden som en attributt. Attributten kan også hentes direkte ut fra objektet med punktum: `objekt.attributt`"
   ]
  },
  {
   "cell_type": "code",
   "execution_count": null,
   "metadata": {},
   "outputs": [],
   "source": [
    "class Hund:\n",
    "\n",
    "    navn = \"Fido\"\n",
    "\n",
    "    def voff(self):\n",
    "        print(\"voff!\")\n",
    "\n",
    "    def regn_ut(self, x):\n",
    "        return x + 1\n",
    "    \n",
    "    \n",
    "h = Hund()\n",
    "print(h.navn)"
   ]
  },
  {
   "cell_type": "markdown",
   "metadata": {},
   "source": [
    "Attributter og egenskaper (properties) er nesten det samme (forskjellen er at properties i Python har *gettere og settere*, men det skal vi ikke snakke om i denne øvingen). Derfor kaller vi det hovedsakelig for attributter.\n",
    "\n",
    "I koden over er navnet til hunden statisk, det vil si at vi ikke kan endre det. Derimot kan vi legge til metoder for å kunne endre attributten, eller vi kan bestemme attributtet når vi skal **instansiere** klassen! Da må vi bruke en forhåndsdefinert metode som de alle klasser har:"
   ]
  },
  {
   "cell_type": "markdown",
   "metadata": {},
   "source": [
    "# Unike metoder (__ init __)"
   ]
  },
  {
   "cell_type": "markdown",
   "metadata": {},
   "source": [
    "Noen metoder i klassen er nødvendige for å kunne instansiere gode objekter. Den viktigste av metodene i en klasse har slik et spesielt navn og skrives slik \n",
    "```Python\n",
    "__init__\n",
    "```\n",
    "\n",
    "I de fleste kodespråk kalles dette for en konstruktør (**constructor**), men i Python heter det `init` (initialize). Denne metoden kjører *KUN* når objektet initialiseres, dvs når vi oppretter objektet. Dette gir oss et mektig verktøy for å opprette objekter med unike attributter vi selv ønsker.\n",
    "\n",
    "I koden under bruker vi `init-metoden` for å velge navnet til hunden når vi initialiserer objektet."
   ]
  },
  {
   "cell_type": "code",
   "execution_count": null,
   "metadata": {},
   "outputs": [],
   "source": [
    "class Hund:\n",
    "\n",
    "    def __init__(self, navn):\n",
    "        self.navn = navn\n",
    "\n",
    "\n",
    "h = Hund(\"Fido\")\n",
    "print(h.navn)"
   ]
  },
  {
   "cell_type": "markdown",
   "metadata": {},
   "source": [
    "Dette gjør det enkelt for oss å lage flere hunder med ulike navn! Da kan vi lett lage flere hunde-objekter ved å sende et nytt navn som argument til initaliserings-metoden."
   ]
  },
  {
   "cell_type": "code",
   "execution_count": null,
   "metadata": {},
   "outputs": [],
   "source": [
    "class Hund:\n",
    "\n",
    "    def __init__(self, navn):\n",
    "        self.navn = navn\n",
    "\n",
    "\n",
    "h = Hund(\"Fido\")\n",
    "h2 = Hund(\"Rex\")\n",
    "h3 = Hund(\"Kaiser\")\n",
    "h4 = Hund(\"Slappen\")\n",
    "\n",
    "print(h.navn)\n",
    "print(h2.navn)\n",
    "print(h3.navn)\n",
    "print(h4.navn)"
   ]
  },
  {
   "cell_type": "markdown",
   "metadata": {},
   "source": [
    "I koden over lager vi 4 ulike hunder, der hver hun er en unik instans av Hund-klassen - og dermed et unikt Hund-objekt.\n",
    "\n",
    "#### ✨ Kort og godt: Hund-klassen er en blueprint (en oppskrift) og selve initialiseringen av Hundklassen ( **h = Hund()** ) oppretter et Hund-objekt! ✨\n",
    "\n",
    "Her kan vi selvsagt også ta i mot flere parameter i initialiserings-metoden. **Se koden under**"
   ]
  },
  {
   "cell_type": "code",
   "execution_count": null,
   "metadata": {},
   "outputs": [],
   "source": [
    "class Hund:\n",
    "\n",
    "    def __init__(self, navn, alder):\n",
    "        self.navn = navn\n",
    "        self.alder = alder\n",
    "\n",
    "\n",
    "h = Hund(\"Fido\", 5)\n",
    "print(h.navn)\n",
    "print(h.alder)"
   ]
  },
  {
   "cell_type": "markdown",
   "metadata": {},
   "source": [
    "✨✨✨\n",
    "### Forskjellen mellom parameter og argument:\n",
    "Parameter er det du en funksjonen/metoden tar inn, feks:\n",
    "\n",
    "```Python\n",
    "def funksjon(parameter1, parameter2, parameter3)\n",
    "```\n",
    "✨✨✨\n",
    "\n",
    "Argument er det man sender til funksjonen/metoden.\n",
    "\n",
    "```Python\n",
    "funksjon(argument1, argument2, argument3)\n",
    "```\n",
    "\n",
    "✨✨✨"
   ]
  },
  {
   "cell_type": "markdown",
   "metadata": {},
   "source": [
    "# Self"
   ]
  },
  {
   "cell_type": "markdown",
   "metadata": {},
   "source": [
    "Så langt har du kanskje lagt merke til at hver metode i Klassene tar inn `self` som et parameter. Grunnen til dette er at metodene av seg selv ikke vet hvilket objekt de skal kjøre metoden på, derfor når vi arbeider med objekter er det nødvendig å sende objektet vi vil at handlingen skal kjøres på med som et argument (dette skjer automatisk, og er ikke nødvendig å skrive).\n",
    "\n",
    "Self blir slik en referanse til instansen av klassen, og blir så brukt til å aksessere variabler som tilhører den klassen.\n",
    "\n",
    "Derimot trenger man ikke å legge til objektet som et argument når man kaller metoden, da dette skjer automatisk. Her er det bare nødvendig å være klar over at det første parameteret i en metode **må alltid* være self."
   ]
  },
  {
   "cell_type": "markdown",
   "metadata": {},
   "source": [
    "# Oppgave"
   ]
  },
  {
   "cell_type": "markdown",
   "metadata": {},
   "source": [
    "### a)"
   ]
  },
  {
   "cell_type": "markdown",
   "metadata": {},
   "source": [
    "**Lag en klasse `Person` med en metode `Hikke` som skriver ut \"Hikk\"**\n",
    "\n",
    "**Initialiser så et Person-objekt og kall metoden Hikke**"
   ]
  },
  {
   "cell_type": "code",
   "execution_count": null,
   "metadata": {},
   "outputs": [],
   "source": []
  },
  {
   "cell_type": "markdown",
   "metadata": {},
   "source": [
    "### b)"
   ]
  },
  {
   "cell_type": "markdown",
   "metadata": {},
   "source": [
    "**Utvid koden fra oppgave a) med et alder attributt. Endre `Hikk-metoden` slik at \"Hikk\" skrives ut flere ganger, basert på hvor gammel personen er**\n",
    "\n",
    "**Initaliser objektet og kall metoden**\n",
    "\n",
    "Du kan kopiere koden fra oppgave a) i kodeblokken under"
   ]
  },
  {
   "cell_type": "code",
   "execution_count": null,
   "metadata": {},
   "outputs": [],
   "source": []
  },
  {
   "cell_type": "markdown",
   "metadata": {},
   "source": [
    "### c)"
   ]
  },
  {
   "cell_type": "markdown",
   "metadata": {},
   "source": [
    "**Endre koden fra oppgave b) til å bruke en `init-metode` for å sette alder ved initialisering av Person-objektet**\n",
    "\n",
    "**Initialiser 3 ulike Personobjekter med ulik alder, og kall metoden i alle 3**\n",
    "\n",
    "\n",
    "Du kan kopiere koden fra oppgave b) i kodeblokken under"
   ]
  },
  {
   "cell_type": "code",
   "execution_count": null,
   "metadata": {},
   "outputs": [],
   "source": []
  },
  {
   "cell_type": "markdown",
   "metadata": {},
   "source": [
    "### d)"
   ]
  },
  {
   "cell_type": "markdown",
   "metadata": {},
   "source": [
    "**Endre init-metoden fra oppgave c) til å ta inn enda et parameter for `navn`, og print ut dette sammen med `Hikke-metoden`**\n",
    "\n",
    "**Initialiser 3 ulike Personobjekter med ulik alder og navn, og kall metoden i alle 3**\n",
    "\n",
    "Du kan kopiere koden fra oppgave c) i kodeblokken under"
   ]
  },
  {
   "cell_type": "code",
   "execution_count": null,
   "metadata": {},
   "outputs": [],
   "source": []
  },
  {
   "cell_type": "markdown",
   "metadata": {},
   "source": [
    "---\n",
    "\n",
    "Det var en rask intro til OOP i Python!\n",
    "\n",
    "\n",
    "Her kan man også begynne å snakke om Getter og Settere, men det er mer fornuftig sammen med innkapsling for VG2.\n",
    "\n",
    "Dette gjelder også Arv, Iteratorer, Polymorfisme og Moduler."
   ]
  }
 ],
 "metadata": {
  "kernelspec": {
   "display_name": "Python 3",
   "language": "python",
   "name": "python3"
  },
  "language_info": {
   "codemirror_mode": {
    "name": "ipython",
    "version": 3
   },
   "file_extension": ".py",
   "mimetype": "text/x-python",
   "name": "python",
   "nbconvert_exporter": "python",
   "pygments_lexer": "ipython3",
   "version": "3.11.4"
  },
  "orig_nbformat": 4
 },
 "nbformat": 4,
 "nbformat_minor": 2
}
