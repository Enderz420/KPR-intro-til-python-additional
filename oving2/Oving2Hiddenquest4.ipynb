{
 "cells": [
  {
   "cell_type": "markdown",
   "metadata": {},
   "source": [
    "# A wild hidden quest 2-4 appeared!\n",
    "\n",
    "![img](./../img/hidden-quest-img.png)\n",
    "\n",
    "**Klarer du oppgaven ryktes det Heimdallsquest XP**"
   ]
  },
  {
   "cell_type": "markdown",
   "metadata": {
    "deletable": false,
    "editable": false,
    "run_control": {
     "frozen": true
    }
   },
   "source": [
    "# Sjakkbrett\n",
    "\n",
    "**Læringsmål:**\n",
    "\n",
    "* Betingelser\n",
    "* Logiske uttrykk\n",
    "* Nøstede if-setninger\n",
    " \n",
    "Posisjoner på et sjakkbrett kan identifiseres med en bokstav og et tall. Bokstaven identifiserer kolonnen (kalt \"linjen\" i sjakk), og tallet identifiserer raden.\n",
    "\n",
    "\n",
    "![sjakkbrett](./../img/sjakkbrett.png)\n"
   ]
  },
  {
   "cell_type": "markdown",
   "metadata": {
    "deletable": false,
    "editable": false,
    "run_control": {
     "frozen": true
    }
   },
   "source": [
    "### a)"
   ]
  },
  {
   "cell_type": "markdown",
   "metadata": {
    "deletable": false,
    "editable": false,
    "run_control": {
     "frozen": true
    }
   },
   "source": [
    "**I denne oppgaven skal du lage et program som tar inn en posisjon fra brukeren, og bruker if-setninger til å finne ut hvilken farge ruten for denne posisjonen har.**\n",
    "\n",
    "Ta utgangspunkt i de tre kodelinjene under, som hjelper deg litt på vei. Disse viser hvordan man kan bruke indeksering av en strengvariabel (her kalt `pos`) for å finne enkelttegn.\n",
    "\n",
    "Indeks 0 er det første tegnet i strengen, når `pos = 'a5'` vil dermed `pos[0]` være `'a'` og `pos[1]` være `'5'`.\n",
    "\n",
    "I din kode må du\n",
    "\n",
    "* bytte ut kodelinjen `posisjon = 'a5'` med en kodelinje som i stedet ber bruker om å taste inn posisjonen\n",
    "* legge til mer kode under kodelinjen `tall = ...` for å ta en beslutning om den innskrevne posisjonen er hvit eller svart rute.\n",
    "\n",
    "Eksempel på kjøring:\n",
    "\n",
    "  \n",
    "```python\n",
    "Posisjon: a5  \n",
    "Svart  \n",
    "```\n",
    "  \n",
    "```\n",
    "Posisjon: d3  \n",
    "Hvit  \n",
    "```\n",
    "  \n",
    "```\n",
    "Posisjon: f6\n",
    "Svart\n",
    "```"
   ]
  },
  {
   "cell_type": "code",
   "execution_count": null,
   "metadata": {
    "ExecuteTime": {
     "end_time": "2019-07-02T08:14:18.283300Z",
     "start_time": "2019-07-02T08:14:18.272588Z"
    }
   },
   "outputs": [],
   "source": [
    "pos = 'a5'  # byttes ut med en input()-setning\n",
    " \n",
    "bokstav = pos[0]                # gir variabelen bokstav verdi 'a'\n",
    " \n",
    "tall = int(pos[1])              #g ir variabelen tall verdi 5\n",
    "  \n",
    "# legg til mer kode her"
   ]
  },
  {
   "cell_type": "markdown",
   "metadata": {
    "deletable": false,
    "editable": false,
    "heading_collapsed": true,
    "run_control": {
     "frozen": true
    }
   },
   "source": [
    "#### Hint"
   ]
  },
  {
   "cell_type": "markdown",
   "metadata": {
    "deletable": false,
    "editable": false,
    "hidden": true,
    "run_control": {
     "frozen": true
    }
   },
   "source": [
    "Modulo (`%`)"
   ]
  },
  {
   "cell_type": "markdown",
   "metadata": {
    "deletable": false,
    "editable": false,
    "run_control": {
     "frozen": true
    }
   },
   "source": [
    "## b) Valgfri ekstraoppgave"
   ]
  },
  {
   "cell_type": "markdown",
   "metadata": {
    "deletable": false,
    "editable": false,
    "run_control": {
     "frozen": true
    }
   },
   "source": [
    "**Utvid programmet så det også håndterer mulig feil input fra bruker, på følgende måte**:\n",
    "\n",
    "* Hvis brukeren skriver inn en streng med en annen lengde enn 2 tegn (enten kortere eller lenger), skal programmet svare `\"Feil input. Du må skrive akkurat to tegn\"` og så avslutte.\n",
    "* Hvis innskrevet tekst er 2 tegn lang men ikke tilsvarer en sjakkrute, skal programmet svare som vist under. Dette skal altså skje hvis første tegn noe annet enn en bokstav A-H eller a-h, eller andre tegn er noe annet enn et tall 1-8.\n",
    "\n",
    "  \n",
    "```\n",
    "Posisjon: A9\n",
    "Feil input.\n",
    "Første tegn må være en bokstav A-H eller a-h\n",
    "Andre tegn må være et tall 1-8\n",
    "```\n",
    "\n",
    "Hvis lengden er to tegn, med bokstav og tall innen lovlige verdiområder, skal programmet gi samme resultat som i kjøringene i oppgave a"
   ]
  }
 ],
 "metadata": {
  "kernelspec": {
   "display_name": "Python 3 (ipykernel)",
   "language": "python",
   "name": "python3"
  },
  "language_info": {
   "codemirror_mode": {
    "name": "ipython",
    "version": 3
   },
   "file_extension": ".py",
   "mimetype": "text/x-python",
   "name": "python",
   "nbconvert_exporter": "python",
   "pygments_lexer": "ipython3",
   "version": "3.7.3"
  },
  "toc": {
   "base_numbering": 1,
   "nav_menu": {},
   "number_sections": false,
   "sideBar": true,
   "skip_h1_title": false,
   "title_cell": "Table of Contents",
   "title_sidebar": "Contents",
   "toc_cell": false,
   "toc_position": {},
   "toc_section_display": true,
   "toc_window_display": false
  }
 },
 "nbformat": 4,
 "nbformat_minor": 2
}
