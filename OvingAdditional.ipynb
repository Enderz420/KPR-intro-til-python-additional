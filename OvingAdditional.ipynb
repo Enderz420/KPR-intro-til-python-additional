{
 "cells": [
  {
   "cell_type": "markdown",
   "metadata": {},
   "source": [
    "# Python Virtual Environments\n",
    "\n",
    "**Læringsmål:**\n",
    "- Virtuelle Miljø\n",
    "\n",
    "\n"
   ]
  },
  {
   "cell_type": "markdown",
   "metadata": {},
   "source": [
    "## ⚠️⚠️OBS⚠️⚠️\n",
    "---\n",
    "### ⚠️ Dette er mer en veiledning men krever at du bruker terminalen, denne oppgaven trengs ikke å gjøres det er bare for de som er interessert. ⚠️\n",
    "---\n",
    "### ⚠️ Det er en del tekst men det er anbefalt å lese gjennom ⚠️\n",
    "---"
   ]
  },
  {
   "cell_type": "markdown",
   "metadata": {},
   "source": [
    "# Intro til Python Virtual Environments\n",
    "\n",
    "Python Virtual Environments har et problem de løser, at du får oversikt over hvilke pakker du har brukt. <br>\n",
    "Jeg anbefaler sterkt å bruke Virtual Environments da du kan, dette er fordi at du ikke vil ha flere pakker i din globale PIP profil (dette kan du søke opp).\n",
    "\n",
    "Forestill at du jobber på et prosjekt og du bruker noen pakker. Da du er ferdig så skal du sende det over til Jon.\n",
    "Da Jon mottar .py filen og prøver å kjøre den så vil han få dette:\n",
    "\n",
    "![img](./img/ImportError.png)\n",
    "\n",
    "\n",
    "Å nei! Programmet feilet!\n",
    "Selv om det er en så liten feil så er det ganske irriterende å ikke vite at den trengte pakker!\n",
    "\n",
    "Det er her Virtual Environments kommer inn i bildet!"
   ]
  },
  {
   "cell_type": "markdown",
   "metadata": {},
   "source": [
    "# Hands on\n",
    "\n",
    "Det finnes to veier for å lage en virtual environment. Den ene veien er ved å bruke terminalen og den andre veien er å bruke VSCode!\n",
    "\n",
    "Vi bruker VS Code for dette fordi det er relativt enkelt oppsett.\n",
    "\n",
    "### Steg 1\n",
    "Lag en ny python fil i en ny mappe.\n",
    "Det er ikke så viktig hvilket navn du gir filen.\n",
    "\n",
    "### Steg 2\n",
    "Kopier kode blokken under."
   ]
  },
  {
   "cell_type": "code",
   "execution_count": null,
   "metadata": {},
   "outputs": [],
   "source": [
    "import urllib3 # Vil returnere reportMissingImports\n",
    "resp = urllib3.request(\"GET\", \"https://httpbin.org/robots.txt\")\n",
    "resp.status"
   ]
  },
  {
   "cell_type": "markdown",
   "metadata": {},
   "source": [
    "### Steg 3\n",
    "\n",
    "Trykk på versjon nummeret til Python. (Se bilde)\n",
    "\n",
    "![img](./img/PythonVersjon.png)\n",
    "\n",
    "### Steg 4\n",
    "\n",
    "Du vil nå få opp din Python Interpreter, det som gjør din kode til instruksjoner til datamaskinen"
   ]
  }
 ],
 "metadata": {
  "language_info": {
   "name": "python"
  }
 },
 "nbformat": 4,
 "nbformat_minor": 2
}
