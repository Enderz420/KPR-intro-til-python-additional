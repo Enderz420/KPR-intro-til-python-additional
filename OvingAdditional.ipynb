{
 "cells": [
  {
   "cell_type": "markdown",
   "metadata": {},
   "source": [
    "# Python Virtual Environments\n",
    "\n",
    "**Læringsmål:**\n",
    "- Virtuelle Miljø\n",
    "\n",
    "\n"
   ]
  },
  {
   "cell_type": "markdown",
   "metadata": {},
   "source": [
    "## ⚠️⚠️OBS⚠️⚠️\n",
    "---\n",
    "### ⚠️ Dette er mer en veiledning men krever at du bruker terminalen, denne oppgaven trengs ikke å gjøres det er bare for de som er interessert. ⚠️\n",
    "---\n",
    "### ⚠️ Det er en del tekst men det er anbefalt å lese gjennom ⚠️\n",
    "---"
   ]
  },
  {
   "cell_type": "markdown",
   "metadata": {},
   "source": [
    "# Intro til Python Virtual Environments\n",
    "\n",
    "Python Virtual Environments har et problem de løser, at du får oversikt over hvilke pakker du har brukt. <br>\n",
    "Jeg anbefaler sterkt å bruke Virtual Environments da du kan, dette er fordi at du ikke vil ha flere pakker i din globale PIP profil (dette kan du søke opp).\n",
    "\n",
    "Forestill at du jobber på et prosjekt og du bruker noen pakker. Da du er ferdig så skal du sende det over til Jon.\n",
    "Da Jon mottar .py filen og prøver å kjøre den så vil han få dette:\n",
    "\n",
    "![img](./img/ImportError.png)\n",
    "\n",
    "Å nei! Programmet feilet!\n",
    "Selv om det er en så liten feil så er det ganske irriterende å ikke vite at den trengte pakker!\n",
    "\n",
    "Det er her Virtual Environments kommer inn i bildet!"
   ]
  },
  {
   "cell_type": "markdown",
   "metadata": {},
   "source": [
    "# Hands on\n",
    "\n",
    "Det finnes to veier for å lage en virtual environment. Den ene veien er ved å bruke terminalen og den andre veien er å bruke VSCode!\n",
    "\n",
    "Vi bruker VS Code for dette fordi det er relativt enkelt oppsett.\n",
    "\n",
    "### Steg 1\n",
    "Lag en ny python fil i en ny mappe.\n",
    "Det er ikke så viktig hvilket navn du gir filen.\n",
    "\n",
    "### Steg 2\n",
    "Kopier kode blokken under.\n",
    "Denne kode blokken sender en forespørsel som sjekker at lenken fungerer."
   ]
  },
  {
   "cell_type": "code",
   "execution_count": null,
   "metadata": {},
   "outputs": [],
   "source": [
    "import requests # import requests for ease of use\n",
    "r = requests.get('https://api.github.com/events') # sends request to github.com/events\n",
    "# print(r.headers) Can print out HTML Header\n",
    "\n",
    "print(r.status_code) # returns 200 if it's up"
   ]
  },
  {
   "cell_type": "markdown",
   "metadata": {},
   "source": [
    "### Steg 3\n",
    "\n",
    "Trykk på versjon nummeret til Python. (Se bilde)\n",
    "\n",
    "![img](./img/PythonVersjon.png)\n",
    "\n",
    "### Steg 4\n",
    "\n",
    "Du vil nå få opp din Python Interpreter versjon, det som gjør din kode til instruksjoner til datamaskinen. \n",
    "Over det så vil du se en knapp med \"Create Virtual Environment\", klikk på den.\n",
    "\n",
    "Dermed vil du få opp hvilken du vil velge, vi bruker Venv fordi det er enklest.\n",
    "\n",
    "Så vil du måtte velge hvilken versjon av Python vi skal bruke, velg 3.12.X (eller hva enn den nyeste versjonen av Python er).\n",
    "\n",
    "### Steg 5\n",
    "\n",
    "Vent til at Venv mappen laster inn. Dette kan ta rundt et minutt eller lengere.\n",
    "\n",
    "### Steg 6\n",
    "\n",
    "Da det er ferdig så burde mappestrukturen din til å se ut litt som dette.\n",
    "<br>\n",
    "📦venvtest (Overmappen) <br>\n",
    " ┣ 📂.venv (Inne her er vår Virtual Environment) <br>\n",
    " ┗ 📜test.py (Python filen vi lagde på starten)\n",
    "\n",
    "\n",
    "## Gratulerer!\n",
    "Du har nå installert din første Python Venv!\n",
    "I neste del skal vi gå over hvordan man kan bruke det. \n",
    "<br>"
   ]
  },
  {
   "cell_type": "markdown",
   "metadata": {},
   "source": [
    "\n",
    "\n",
    "# Nå skal vi gjøre en hands on!\n",
    "Ta deg en liten pause før vi fortsetter.\n",
    "\n",
    "<br>\n",
    "\n",
    "### Steg 7\n",
    "\n",
    "Åpne din VS Code terminal hvis du ikke har allerede med å enten:\n",
    "- Trykke på ``ctrl+skift+ø``\n",
    "- Trykke på \"Terminal\" knappen i toolbaren og \"New Terminal\"\n",
    "\n",
    "Da du har åpnet terminalen vil du merke at det står (.venv) i grønn skrift helt til venstre. Dette symboliserer at du har aktivert miljøet. <br>\n",
    "Se bildet under for eksempel <br>\n",
    "![img](./img/merk-dette.png) \n",
    "\n",
    "\n",
    "Hvis dette ikke har skjedd kan det hende at den fortsatt er aktivert men du kan være helt sikker med det, mer om det senere."
   ]
  },
  {
   "cell_type": "markdown",
   "metadata": {},
   "source": [
    "## Oppgave 1 \n",
    "\n",
    "a) \n",
    "\n",
    "**Installer pakken.**\n",
    "\n",
    "**Da du har satt opp miljøet ditt, installer ``requests`` pakken fra pip.**"
   ]
  }
 ],
 "metadata": {
  "language_info": {
   "name": "python"
  }
 },
 "nbformat": 4,
 "nbformat_minor": 2
}
